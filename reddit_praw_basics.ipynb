{
 "cells": [
  {
   "cell_type": "code",
   "execution_count": 1,
   "metadata": {},
   "outputs": [],
   "source": [
    "import pandas as pd\n",
    "import praw\n",
    "import numpy as np\n",
    "import os\n",
    "import config"
   ]
  },
  {
   "cell_type": "code",
   "execution_count": 2,
   "metadata": {},
   "outputs": [],
   "source": [
    "# move into praw.ini and gitignore\n",
    "client_id = config.client_id\n",
    "client_secret = config.client_secret\n",
    "user_agent = config.user_agent\n",
    "username = config.username\n",
    "password = config.password"
   ]
  },
  {
   "cell_type": "code",
   "execution_count": 3,
   "metadata": {},
   "outputs": [],
   "source": [
    "reddit = praw.Reddit(client_id=client_id,\n",
    "                     client_secret=client_secret,\n",
    "                     user_agent=user_agent,\n",
    "                    username=username,\n",
    "                    password=password)"
   ]
  },
  {
   "cell_type": "code",
   "execution_count": 6,
   "metadata": {},
   "outputs": [],
   "source": [
    "subreddit_limit = 250\n",
    "most_popular_subreddits = [None] * subreddit_limit\n",
    "subscribers_sum = 0\n",
    "for i, sr in enumerate(reddit.subreddits.popular(limit=subreddit_limit)):\n",
    "    most_popular_subreddits[i] = sr\n",
    "    subscribers_sum += sr.subscribers"
   ]
  },
  {
   "cell_type": "code",
   "execution_count": 4,
   "metadata": {},
   "outputs": [
    {
     "ename": "NameError",
     "evalue": "name 'most_popular_subreddits' is not defined",
     "output_type": "error",
     "traceback": [
      "\u001b[1;31m---------------------------------------------------------------------------\u001b[0m",
      "\u001b[1;31mNameError\u001b[0m                                 Traceback (most recent call last)",
      "\u001b[1;32m<ipython-input-4-94cb149f6ae0>\u001b[0m in \u001b[0;36m<module>\u001b[1;34m\u001b[0m\n\u001b[1;32m----> 1\u001b[1;33m \u001b[1;33m[\u001b[0m\u001b[0msr\u001b[0m\u001b[1;33m.\u001b[0m\u001b[0mdisplay_name\u001b[0m \u001b[1;32mfor\u001b[0m \u001b[0msr\u001b[0m \u001b[1;32min\u001b[0m \u001b[0mmost_popular_subreddits\u001b[0m\u001b[1;33m]\u001b[0m\u001b[1;33m\u001b[0m\u001b[1;33m\u001b[0m\u001b[0m\n\u001b[0m",
      "\u001b[1;31mNameError\u001b[0m: name 'most_popular_subreddits' is not defined"
     ]
    }
   ],
   "source": [
    "[sr.display_name for sr in most_popular_subreddits]"
   ]
  },
  {
   "cell_type": "code",
   "execution_count": 8,
   "metadata": {},
   "outputs": [],
   "source": [
    "subscribers_sum = 0\n",
    "for sr in most_popular_subreddits:\n",
    "    subscribers_sum += sr.subscribers"
   ]
  },
  {
   "cell_type": "code",
   "execution_count": null,
   "metadata": {},
   "outputs": [],
   "source": [
    "test_comments = reddit.subreddit(\"theocho\").comments(limit=100)\n",
    "blanks = [None]*100\n",
    "\n",
    "sr_authors = blanks\n",
    "sr_bodies = blanks\n",
    "test_count = 0\n",
    "for comment in test_comments:\n",
    "#     test_df.iloc[i, 0] = comment.author\n",
    "    sr_authors[test_count] = comment.author\n",
    "#     test_df.iloc[i, 1] = \"enlightenedcentrism\"\n",
    "#     test_df.iloc[i, 2] = comment.created_utc\n",
    "#     test_df.iloc[i, 3] = comment.body\n",
    "    sr_bodies[test_count] = comment.body\n",
    "#     test_df.iloc[i, 4] = comment.score\n",
    "    test_count += 1\n",
    "    print(test_count)"
   ]
  },
  {
   "cell_type": "code",
   "execution_count": 16,
   "metadata": {},
   "outputs": [],
   "source": [
    "# total_comments_limit_est = 1000000\n",
    "comments_per_subreddit = 1000\n",
    "total_comments_est = comments_per_subreddit*(len(most_popular_subreddits)-1)\n",
    "all_comments = {}\n",
    "total_comments_count = 0\n",
    "for sr in most_popular_subreddits:\n",
    "# for i in range(9)\n",
    "    # number of comments per subreddit is proportional to its subscriber count\n",
    "#     sr_comment_limit = int(total_comments_limit_est * sr.subscribers / subscribers_sum)\n",
    "#     total_comments_count += sr_comment_limit\n",
    "#     sr_comments = sr.comments(limit=sr_comment_limit)\n",
    "    sr_comments = sr.comments(limit=1000)\n",
    "#     all_comments[sr.display_name] = {\"sr_comment_count\": sr_comment_limit,\n",
    "#                                      \"sr_comments\": sr_comments}\n",
    "    all_comments[sr.display_name] = sr_comments"
   ]
  },
  {
   "cell_type": "code",
   "execution_count": 17,
   "metadata": {},
   "outputs": [
    {
     "data": {
      "text/plain": [
       "249000"
      ]
     },
     "execution_count": 17,
     "metadata": {},
     "output_type": "execute_result"
    }
   ],
   "source": [
    "total_comments_est"
   ]
  },
  {
   "cell_type": "code",
   "execution_count": 18,
   "metadata": {},
   "outputs": [],
   "source": [
    "all_authors = [\"\"]*total_comments_est\n",
    "all_subreddits = [\"\"]*total_comments_est\n",
    "all_bodies = [\"\"]*total_comments_est\n",
    "all_scores = [0]*total_comments_est"
   ]
  },
  {
   "cell_type": "code",
   "execution_count": null,
   "metadata": {},
   "outputs": [],
   "source": [
    "row_count = 0\n",
    "for sr in most_popular_subreddits[1:]:\n",
    "    name = sr.display_name\n",
    "    for comment in all_comments[name]:\n",
    "        all_authors[row_count] = comment.author\n",
    "        all_subreddits[row_count] = name\n",
    "        all_bodies[row_count] = comment.body\n",
    "        all_scores[row_count] = comment.score\n",
    "        row_count += 1\n",
    "        print(row_count)"
   ]
  },
  {
   "cell_type": "code",
   "execution_count": 20,
   "metadata": {},
   "outputs": [],
   "source": [
    "raw_comments_df = pd.DataFrame({\"author\": all_authors[:239858],\n",
    "                               \"subreddit\": all_subreddits[:239858],\n",
    "                               \"body\": all_bodies[:239858],\n",
    "                               \"score\": all_scores[:239858]})"
   ]
  },
  {
   "cell_type": "code",
   "execution_count": 21,
   "metadata": {
    "scrolled": true
   },
   "outputs": [
    {
     "data": {
      "text/html": [
       "<div>\n",
       "<style scoped>\n",
       "    .dataframe tbody tr th:only-of-type {\n",
       "        vertical-align: middle;\n",
       "    }\n",
       "\n",
       "    .dataframe tbody tr th {\n",
       "        vertical-align: top;\n",
       "    }\n",
       "\n",
       "    .dataframe thead th {\n",
       "        text-align: right;\n",
       "    }\n",
       "</style>\n",
       "<table border=\"1\" class=\"dataframe\">\n",
       "  <thead>\n",
       "    <tr style=\"text-align: right;\">\n",
       "      <th></th>\n",
       "      <th>author</th>\n",
       "      <th>subreddit</th>\n",
       "      <th>body</th>\n",
       "      <th>score</th>\n",
       "    </tr>\n",
       "  </thead>\n",
       "  <tbody>\n",
       "    <tr>\n",
       "      <td>0</td>\n",
       "      <td>depressedbutimlit</td>\n",
       "      <td>AskReddit</td>\n",
       "      <td>Haven't been in one, I'm 19</td>\n",
       "      <td>1</td>\n",
       "    </tr>\n",
       "    <tr>\n",
       "      <td>1</td>\n",
       "      <td>Anonstarr</td>\n",
       "      <td>AskReddit</td>\n",
       "      <td>Male sea horses are the ones who actually get ...</td>\n",
       "      <td>1</td>\n",
       "    </tr>\n",
       "    <tr>\n",
       "      <td>2</td>\n",
       "      <td>div_tiw</td>\n",
       "      <td>AskReddit</td>\n",
       "      <td>Learnt polar form calculus</td>\n",
       "      <td>1</td>\n",
       "    </tr>\n",
       "    <tr>\n",
       "      <td>3</td>\n",
       "      <td>RAMI_XXL</td>\n",
       "      <td>AskReddit</td>\n",
       "      <td>I would say the fried chicken, ham, steak and ...</td>\n",
       "      <td>1</td>\n",
       "    </tr>\n",
       "    <tr>\n",
       "      <td>4</td>\n",
       "      <td>JesusChristSuperDerp</td>\n",
       "      <td>AskReddit</td>\n",
       "      <td>Wonder Boy</td>\n",
       "      <td>1</td>\n",
       "    </tr>\n",
       "    <tr>\n",
       "      <td>...</td>\n",
       "      <td>...</td>\n",
       "      <td>...</td>\n",
       "      <td>...</td>\n",
       "      <td>...</td>\n",
       "    </tr>\n",
       "    <tr>\n",
       "      <td>239853</td>\n",
       "      <td>Bensemus</td>\n",
       "      <td>technology</td>\n",
       "      <td>It also doesn’t take hundreds of millions or b...</td>\n",
       "      <td>13</td>\n",
       "    </tr>\n",
       "    <tr>\n",
       "      <td>239854</td>\n",
       "      <td>besselfunctions</td>\n",
       "      <td>technology</td>\n",
       "      <td>Thank you for a serious and thoughtful response.</td>\n",
       "      <td>4</td>\n",
       "    </tr>\n",
       "    <tr>\n",
       "      <td>239855</td>\n",
       "      <td>the_monkey_knows</td>\n",
       "      <td>technology</td>\n",
       "      <td>It’ll be dead by a thousand cuts compared to t...</td>\n",
       "      <td>2</td>\n",
       "    </tr>\n",
       "    <tr>\n",
       "      <td>239856</td>\n",
       "      <td>I_am_the_night</td>\n",
       "      <td>technology</td>\n",
       "      <td>Ah yes, the party of small government</td>\n",
       "      <td>2</td>\n",
       "    </tr>\n",
       "    <tr>\n",
       "      <td>239857</td>\n",
       "      <td>johnnybagels</td>\n",
       "      <td>technology</td>\n",
       "      <td>Well if what you're saying is true then their ...</td>\n",
       "      <td>1</td>\n",
       "    </tr>\n",
       "  </tbody>\n",
       "</table>\n",
       "<p>239858 rows × 4 columns</p>\n",
       "</div>"
      ],
      "text/plain": [
       "                      author   subreddit  \\\n",
       "0          depressedbutimlit   AskReddit   \n",
       "1                  Anonstarr   AskReddit   \n",
       "2                    div_tiw   AskReddit   \n",
       "3                   RAMI_XXL   AskReddit   \n",
       "4       JesusChristSuperDerp   AskReddit   \n",
       "...                      ...         ...   \n",
       "239853              Bensemus  technology   \n",
       "239854       besselfunctions  technology   \n",
       "239855      the_monkey_knows  technology   \n",
       "239856        I_am_the_night  technology   \n",
       "239857          johnnybagels  technology   \n",
       "\n",
       "                                                     body  score  \n",
       "0                             Haven't been in one, I'm 19      1  \n",
       "1       Male sea horses are the ones who actually get ...      1  \n",
       "2                              Learnt polar form calculus      1  \n",
       "3       I would say the fried chicken, ham, steak and ...      1  \n",
       "4                                              Wonder Boy      1  \n",
       "...                                                   ...    ...  \n",
       "239853  It also doesn’t take hundreds of millions or b...     13  \n",
       "239854   Thank you for a serious and thoughtful response.      4  \n",
       "239855  It’ll be dead by a thousand cuts compared to t...      2  \n",
       "239856              Ah yes, the party of small government      2  \n",
       "239857  Well if what you're saying is true then their ...      1  \n",
       "\n",
       "[239858 rows x 4 columns]"
      ]
     },
     "execution_count": 21,
     "metadata": {},
     "output_type": "execute_result"
    }
   ],
   "source": [
    "raw_comments_df"
   ]
  },
  {
   "cell_type": "code",
   "execution_count": 26,
   "metadata": {},
   "outputs": [],
   "source": [
    "raw_comments_df.to_csv(os.path.join(\"static\",\"data\", \"raw_comments_239858.csv\"), index=False)"
   ]
  },
  {
   "cell_type": "code",
   "execution_count": null,
   "metadata": {},
   "outputs": [],
   "source": []
  }
 ],
 "metadata": {
  "kernelspec": {
   "display_name": "Python 3",
   "language": "python",
   "name": "python3"
  },
  "language_info": {
   "codemirror_mode": {
    "name": "ipython",
    "version": 3
   },
   "file_extension": ".py",
   "mimetype": "text/x-python",
   "name": "python",
   "nbconvert_exporter": "python",
   "pygments_lexer": "ipython3",
   "version": "3.7.3"
  }
 },
 "nbformat": 4,
 "nbformat_minor": 2
}
