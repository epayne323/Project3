{
 "cells": [
  {
   "cell_type": "code",
   "execution_count": 47,
   "metadata": {},
   "outputs": [],
   "source": [
    "import pandas as pd\n",
    "import praw\n",
    "import numpy as np"
   ]
  },
  {
   "cell_type": "code",
   "execution_count": 7,
   "metadata": {},
   "outputs": [],
   "source": [
    "# move into praw.ini and gitignore\n",
    "client_id = \"T04_odvTxYN3bQ\"\n",
    "client_secret = \"ZpKbDuYva9ygzqt--LdWtp9U0mQ\"\n",
    "user_agent = \"script:comments_classifier:v1.0 (by /u/comments_classifier)\"\n",
    "username = \"comments_classifier\"\n",
    "password = \"ricedataviz\""
   ]
  },
  {
   "cell_type": "code",
   "execution_count": 8,
   "metadata": {},
   "outputs": [],
   "source": [
    "reddit = praw.Reddit(client_id=client_id,\n",
    "                     client_secret=client_secret,\n",
    "                     user_agent=user_agent,\n",
    "                    username=username,\n",
    "                    password=password)"
   ]
  },
  {
   "cell_type": "code",
   "execution_count": 9,
   "metadata": {},
   "outputs": [
    {
     "name": "stdout",
     "output_type": "stream",
     "text": [
      "REMINDER: This is a left-leaning subreddit!\n",
      "Survey from one of our friends in Switzerland!\n",
      "AOC pointing out enlightened centrism\n",
      "Stocks = life\n",
      "Lib right? More like Auth Center 🙃\n",
      "Beyond fucking parody\n",
      "Yes it’s the _Democrats_ looking to divide people, not the literal nazis encouraging germ warfare against minorities. Come on, people!!\n",
      "Antifa are the real fascists\n",
      "Each Quadrant's Favorite Quadrant\n",
      "This but....\n"
     ]
    }
   ],
   "source": [
    "for submission in reddit.subreddit('enlightenedcentrism').hot(limit=10):\n",
    "    print(submission.title)"
   ]
  },
  {
   "cell_type": "code",
   "execution_count": 10,
   "metadata": {},
   "outputs": [
    {
     "name": "stdout",
     "output_type": "stream",
     "text": [
      "reddit will soon only be available over HTTPS\n",
      "{'_comments': <praw.models.comment_forest.CommentForest object at 0x000001D757B46E10>,\n",
      " '_comments_by_id': {'t1_cs7vwlm': Comment(id='cs7vwlm'),\n",
      "                     't1_cs7xcx2': Comment(id='cs7xcx2'),\n",
      "                     't1_cs7ykx6': Comment(id='cs7ykx6'),\n",
      "                     't1_cs81mem': Comment(id='cs81mem'),\n",
      "                     't1_cs81xp8': Comment(id='cs81xp8'),\n",
      "                     't1_cs82epc': Comment(id='cs82epc'),\n",
      "                     't1_cs82kes': Comment(id='cs82kes'),\n",
      "                     't1_cs83dd8': Comment(id='cs83dd8'),\n",
      "                     't1_cs83ua8': Comment(id='cs83ua8'),\n",
      "                     't1_cs83xhc': Comment(id='cs83xhc'),\n",
      "                     't1_cs846jk': Comment(id='cs846jk'),\n",
      "                     't1_cs847yp': Comment(id='cs847yp'),\n",
      "                     't1_cs848n2': Comment(id='cs848n2'),\n",
      "                     't1_cs84apf': Comment(id='cs84apf'),\n",
      "                     't1_cs84kz5': Comment(id='cs84kz5'),\n",
      "                     't1_cs84n50': Comment(id='cs84n50'),\n",
      "                     't1_cs84poe': Comment(id='cs84poe'),\n",
      "                     't1_cs84rjx': Comment(id='cs84rjx'),\n",
      "                     't1_cs85lql': Comment(id='cs85lql'),\n",
      "                     't1_cs87jic': Comment(id='cs87jic'),\n",
      "                     't1_cs898tl': Comment(id='cs898tl'),\n",
      "                     't1_cs89jvc': Comment(id='cs89jvc'),\n",
      "                     't1_cs8a7pr': Comment(id='cs8a7pr'),\n",
      "                     't1_cs8blse': Comment(id='cs8blse'),\n",
      "                     't1_cs8feqw': Comment(id='cs8feqw'),\n",
      "                     't1_cs8hwfi': Comment(id='cs8hwfi'),\n",
      "                     't1_cs8i7od': Comment(id='cs8i7od'),\n",
      "                     't1_cs8iofx': Comment(id='cs8iofx'),\n",
      "                     't1_cs8j88h': Comment(id='cs8j88h'),\n",
      "                     't1_cs8jh7g': Comment(id='cs8jh7g'),\n",
      "                     't1_cs8jkru': Comment(id='cs8jkru'),\n",
      "                     't1_cs8jns1': Comment(id='cs8jns1'),\n",
      "                     't1_cs8jq4l': Comment(id='cs8jq4l'),\n",
      "                     't1_cs8kbbq': Comment(id='cs8kbbq'),\n",
      "                     't1_cs8kc4z': Comment(id='cs8kc4z'),\n",
      "                     't1_cs8kf07': Comment(id='cs8kf07'),\n",
      "                     't1_cs8km94': Comment(id='cs8km94'),\n",
      "                     't1_cs8knnt': Comment(id='cs8knnt'),\n",
      "                     't1_cs8koyi': Comment(id='cs8koyi'),\n",
      "                     't1_cs8kwd0': Comment(id='cs8kwd0'),\n",
      "                     't1_cs8kxvj': Comment(id='cs8kxvj'),\n",
      "                     't1_cs8l1wk': Comment(id='cs8l1wk'),\n",
      "                     't1_cs8lkbl': Comment(id='cs8lkbl'),\n",
      "                     't1_cs8llxd': Comment(id='cs8llxd'),\n",
      "                     't1_cs8lso1': Comment(id='cs8lso1'),\n",
      "                     't1_cs8mez7': Comment(id='cs8mez7'),\n",
      "                     't1_cs8mhlc': Comment(id='cs8mhlc'),\n",
      "                     't1_cs8p6nn': Comment(id='cs8p6nn'),\n",
      "                     't1_cs8t8u9': Comment(id='cs8t8u9'),\n",
      "                     't1_cs8ts1k': Comment(id='cs8ts1k'),\n",
      "                     't1_cs8x1s6': Comment(id='cs8x1s6'),\n",
      "                     't1_cs905rb': Comment(id='cs905rb'),\n",
      "                     't1_cs974f0': Comment(id='cs974f0'),\n",
      "                     't1_cs9daoa': Comment(id='cs9daoa'),\n",
      "                     't1_cs9dn0k': Comment(id='cs9dn0k'),\n",
      "                     't1_cs9dr4n': Comment(id='cs9dr4n'),\n",
      "                     't1_cs9e0cr': Comment(id='cs9e0cr'),\n",
      "                     't1_cs9ecqc': Comment(id='cs9ecqc'),\n",
      "                     't1_cs9emjk': Comment(id='cs9emjk'),\n",
      "                     't1_cs9gpm0': Comment(id='cs9gpm0'),\n",
      "                     't1_cs9i9q3': Comment(id='cs9i9q3'),\n",
      "                     't1_cs9l636': Comment(id='cs9l636'),\n",
      "                     't1_cs9nc77': Comment(id='cs9nc77'),\n",
      "                     't1_cs9ndy5': Comment(id='cs9ndy5'),\n",
      "                     't1_cs9no26': Comment(id='cs9no26'),\n",
      "                     't1_cs9nweg': Comment(id='cs9nweg'),\n",
      "                     't1_cs9rfqm': Comment(id='cs9rfqm'),\n",
      "                     't1_cs9tp7a': Comment(id='cs9tp7a'),\n",
      "                     't1_cs9tso1': Comment(id='cs9tso1'),\n",
      "                     't1_cs9z8jp': Comment(id='cs9z8jp'),\n",
      "                     't1_csa3tdo': Comment(id='csa3tdo'),\n",
      "                     't1_csa5ckt': Comment(id='csa5ckt'),\n",
      "                     't1_csa7guj': Comment(id='csa7guj'),\n",
      "                     't1_csaf2xj': Comment(id='csaf2xj'),\n",
      "                     't1_csaifdc': Comment(id='csaifdc'),\n",
      "                     't1_csalcjw': Comment(id='csalcjw'),\n",
      "                     't1_csapdsx': Comment(id='csapdsx'),\n",
      "                     't1_csaqqg3': Comment(id='csaqqg3'),\n",
      "                     't1_csav2lc': Comment(id='csav2lc'),\n",
      "                     't1_csay9va': Comment(id='csay9va'),\n",
      "                     't1_csaym10': Comment(id='csaym10'),\n",
      "                     't1_csaz9yt': Comment(id='csaz9yt'),\n",
      "                     't1_csazbjn': Comment(id='csazbjn'),\n",
      "                     't1_csb01td': Comment(id='csb01td'),\n",
      "                     't1_csb0xnn': Comment(id='csb0xnn'),\n",
      "                     't1_csb2iss': Comment(id='csb2iss'),\n",
      "                     't1_csbxpsm': Comment(id='csbxpsm'),\n",
      "                     't1_csc3ini': Comment(id='csc3ini'),\n",
      "                     't1_csghdd8': Comment(id='csghdd8'),\n",
      "                     't1_csh2ggk': Comment(id='csh2ggk'),\n",
      "                     't1_cshasj0': Comment(id='cshasj0'),\n",
      "                     't1_csjbsq9': Comment(id='csjbsq9'),\n",
      "                     't1_cso07fm': Comment(id='cso07fm'),\n",
      "                     't1_csocuyr': Comment(id='csocuyr'),\n",
      "                     't1_csomokx': Comment(id='csomokx'),\n",
      "                     't1_csoncci': Comment(id='csoncci'),\n",
      "                     't1_csoqfop': Comment(id='csoqfop'),\n",
      "                     't1_csoqwaj': Comment(id='csoqwaj'),\n",
      "                     't1_csotkw8': Comment(id='csotkw8'),\n",
      "                     't1_csovx2n': Comment(id='csovx2n'),\n",
      "                     't1_csow6zt': Comment(id='csow6zt'),\n",
      "                     't1_csoycql': Comment(id='csoycql'),\n",
      "                     't1_csp2uvk': Comment(id='csp2uvk'),\n",
      "                     't1_csrxl8t': Comment(id='csrxl8t'),\n",
      "                     't1_csrxya2': Comment(id='csrxya2'),\n",
      "                     't1_cswg4ku': Comment(id='cswg4ku'),\n",
      "                     't1_cswg9cd': Comment(id='cswg9cd'),\n",
      "                     't1_cswk16a': Comment(id='cswk16a'),\n",
      "                     't1_ct3lvx5': Comment(id='ct3lvx5'),\n",
      "                     't1_ct4hrif': Comment(id='ct4hrif'),\n",
      "                     't1_ctd5ycu': Comment(id='ctd5ycu'),\n",
      "                     't1_ctdgeyj': Comment(id='ctdgeyj'),\n",
      "                     't1_cthwcdf': Comment(id='cthwcdf'),\n",
      "                     't1_ctvk404': Comment(id='ctvk404'),\n",
      "                     't1_ctx44kx': Comment(id='ctx44kx'),\n",
      "                     't1_ctx4em5': Comment(id='ctx4em5'),\n",
      "                     't1_ctxh7pl': Comment(id='ctxh7pl'),\n",
      "                     't1_ctyx6vg': Comment(id='ctyx6vg'),\n",
      "                     't1_ctz7auo': Comment(id='ctz7auo'),\n",
      "                     't1_ctzmebe': Comment(id='ctzmebe'),\n",
      "                     't1_cu5ykfz': Comment(id='cu5ykfz'),\n",
      "                     't1_cu8kmrn': Comment(id='cu8kmrn'),\n",
      "                     't1_cuawtww': Comment(id='cuawtww'),\n",
      "                     't1_cucnyw8': Comment(id='cucnyw8'),\n",
      "                     't1_cw9j1ef': Comment(id='cw9j1ef'),\n",
      "                     't1_cwe9ki7': Comment(id='cwe9ki7')},\n",
      " '_fetched': True,\n",
      " '_reddit': <praw.reddit.Reddit object at 0x000001D758112FD0>,\n",
      " 'all_awardings': [],\n",
      " 'allow_live_comments': False,\n",
      " 'approved_at_utc': None,\n",
      " 'approved_by': None,\n",
      " 'archived': True,\n",
      " 'author': Redditor(name='rram'),\n",
      " 'author_flair_background_color': None,\n",
      " 'author_flair_css_class': None,\n",
      " 'author_flair_richtext': [],\n",
      " 'author_flair_template_id': None,\n",
      " 'author_flair_text': None,\n",
      " 'author_flair_text_color': None,\n",
      " 'author_flair_type': 'text',\n",
      " 'author_fullname': 't2_5wfps',\n",
      " 'author_patreon_flair': False,\n",
      " 'author_premium': True,\n",
      " 'awarders': [],\n",
      " 'banned_at_utc': None,\n",
      " 'banned_by': None,\n",
      " 'can_gild': True,\n",
      " 'can_mod_post': False,\n",
      " 'category': None,\n",
      " 'clicked': False,\n",
      " 'comment_limit': 2048,\n",
      " 'comment_sort': 'best',\n",
      " 'content_categories': None,\n",
      " 'contest_mode': False,\n",
      " 'created': 1434447340.0,\n",
      " 'created_utc': 1434418540.0,\n",
      " 'discussion_type': None,\n",
      " 'distinguished': 'admin',\n",
      " 'domain': 'self.redditdev',\n",
      " 'downs': 0,\n",
      " 'edited': 1440173665.0,\n",
      " 'gilded': 0,\n",
      " 'gildings': {},\n",
      " 'hidden': False,\n",
      " 'hide_score': False,\n",
      " 'id': '39zje0',\n",
      " 'is_crosspostable': True,\n",
      " 'is_meta': False,\n",
      " 'is_original_content': False,\n",
      " 'is_reddit_media_domain': False,\n",
      " 'is_robot_indexable': True,\n",
      " 'is_self': True,\n",
      " 'is_video': False,\n",
      " 'likes': None,\n",
      " 'link_flair_background_color': '',\n",
      " 'link_flair_css_class': '',\n",
      " 'link_flair_richtext': [],\n",
      " 'link_flair_text': 'Reddit API',\n",
      " 'link_flair_text_color': 'dark',\n",
      " 'link_flair_type': 'text',\n",
      " 'locked': False,\n",
      " 'media': None,\n",
      " 'media_embed': {},\n",
      " 'media_only': False,\n",
      " 'mod_note': None,\n",
      " 'mod_reason_by': None,\n",
      " 'mod_reason_title': None,\n",
      " 'mod_reports': [],\n",
      " 'name': 't3_39zje0',\n",
      " 'no_follow': False,\n",
      " 'num_comments': 120,\n",
      " 'num_crossposts': 0,\n",
      " 'num_duplicates': 0,\n",
      " 'num_reports': None,\n",
      " 'over_18': False,\n",
      " 'parent_whitelist_status': 'all_ads',\n",
      " 'permalink': '/r/redditdev/comments/39zje0/reddit_will_soon_only_be_available_over_https/',\n",
      " 'pinned': False,\n",
      " 'post_hint': 'self',\n",
      " 'preview': {'enabled': False,\n",
      "             'images': [{'id': 'mKvBKwqPFmnxiYtLQRehhGDWhnrZdJVqzSL_7jJsHb4',\n",
      "                         'resolutions': [{'height': 150,\n",
      "                                          'url': 'https://external-preview.redd.it/L5CgcQzm_oDfAOyXjrsyqxB1cQW9Htc8VyqhoD0wrPU.jpg?width=108&crop=smart&auto=webp&s=4c9874a596b313db7111a5b5e194708dafcf3442',\n",
      "                                          'width': 108}],\n",
      "                         'source': {'height': 200,\n",
      "                                    'url': 'https://external-preview.redd.it/L5CgcQzm_oDfAOyXjrsyqxB1cQW9Htc8VyqhoD0wrPU.jpg?auto=webp&s=600472675b48c5bc261ffab506d0ff52817f3ed6',\n",
      "                                    'width': 144},\n",
      "                         'variants': {}}]},\n",
      " 'pwls': 6,\n",
      " 'quarantine': False,\n",
      " 'removal_reason': None,\n",
      " 'removed_by': None,\n",
      " 'removed_by_category': None,\n",
      " 'report_reasons': None,\n",
      " 'saved': False,\n",
      " 'score': 261,\n",
      " 'secure_media': None,\n",
      " 'secure_media_embed': {},\n",
      " 'selftext': 'Nearly 1 year ago we [gave you the ability to view reddit '\n",
      "             'completely over '\n",
      "             'SSL](http://www.redditblog.com/2014/09/hell-its-about-time-reddit-now-supports.html). '\n",
      "             \"Now we're ready to enforce that everyone use a secure connection \"\n",
      "             'with reddit.\\n'\n",
      "             '\\n'\n",
      "             '**Please ensure that all of your scripts can perform all of '\n",
      "             'their functions over HTTPS by June 29.** At this time we will '\n",
      "             'begin redirecting all site traffic to be over HTTPS and HTTP '\n",
      "             'will no longer be available.\\n'\n",
      "             '\\n'\n",
      "             'If this will be a problem for you, please let us know '\n",
      "             'immediately.\\n'\n",
      "             '\\n'\n",
      "             '**EDIT** 2015-08-21: IT IS DONE. You also have HSTS too.',\n",
      " 'selftext_html': '<!-- SC_OFF --><div class=\"md\"><p>Nearly 1 year ago we <a '\n",
      "                  'href=\"http://www.redditblog.com/2014/09/hell-its-about-time-reddit-now-supports.html\">gave '\n",
      "                  'you the ability to view reddit completely over SSL</a>. Now '\n",
      "                  'we&#39;re ready to enforce that everyone use a secure '\n",
      "                  'connection with reddit.</p>\\n'\n",
      "                  '\\n'\n",
      "                  '<p><strong>Please ensure that all of your scripts can '\n",
      "                  'perform all of their functions over HTTPS by June '\n",
      "                  '29.</strong> At this time we will begin redirecting all '\n",
      "                  'site traffic to be over HTTPS and HTTP will no longer be '\n",
      "                  'available.</p>\\n'\n",
      "                  '\\n'\n",
      "                  '<p>If this will be a problem for you, please let us know '\n",
      "                  'immediately.</p>\\n'\n",
      "                  '\\n'\n",
      "                  '<p><strong>EDIT</strong> 2015-08-21: IT IS DONE. You also '\n",
      "                  'have HSTS too.</p>\\n'\n",
      "                  '</div><!-- SC_ON -->',\n",
      " 'send_replies': True,\n",
      " 'spoiler': False,\n",
      " 'stickied': False,\n",
      " 'subreddit': Subreddit(display_name='redditdev'),\n",
      " 'subreddit_id': 't5_2qizd',\n",
      " 'subreddit_name_prefixed': 'r/redditdev',\n",
      " 'subreddit_subscribers': 33074,\n",
      " 'subreddit_type': 'public',\n",
      " 'suggested_sort': None,\n",
      " 'thumbnail': 'self',\n",
      " 'thumbnail_height': None,\n",
      " 'thumbnail_width': None,\n",
      " 'title': 'reddit will soon only be available over HTTPS',\n",
      " 'total_awards_received': 0,\n",
      " 'ups': 261,\n",
      " 'upvote_ratio': 0.97,\n",
      " 'url': 'https://www.reddit.com/r/redditdev/comments/39zje0/reddit_will_soon_only_be_available_over_https/',\n",
      " 'user_reports': [],\n",
      " 'view_count': None,\n",
      " 'visited': False,\n",
      " 'whitelist_status': 'all_ads',\n",
      " 'wls': 6}\n"
     ]
    }
   ],
   "source": [
    "import pprint\n",
    "\n",
    "# assume you have a Reddit instance bound to variable `reddit`\n",
    "submission = reddit.submission(id='39zje0')\n",
    "print(submission.title) # to make it non-lazy\n",
    "pprint.pprint(vars(submission))"
   ]
  },
  {
   "cell_type": "code",
   "execution_count": 61,
   "metadata": {},
   "outputs": [],
   "source": [
    "subreddit_limit = 1000\n",
    "most_popular_subreddits = [None] * subreddit_limit\n",
    "subscribers_sum = 0\n",
    "for i, sr in enumerate(reddit.subreddits.popular(limit=subreddit_limit)):\n",
    "    most_popular_subreddits[i] = sr\n",
    "    subscribers_sum += sr.subscribers"
   ]
  },
  {
   "cell_type": "code",
   "execution_count": 62,
   "metadata": {},
   "outputs": [
    {
     "data": {
      "text/plain": [
       "1000"
      ]
     },
     "execution_count": 62,
     "metadata": {},
     "output_type": "execute_result"
    }
   ],
   "source": [
    "len(most_popular_subreddits)"
   ]
  },
  {
   "cell_type": "code",
   "execution_count": 63,
   "metadata": {},
   "outputs": [],
   "source": [
    "total_comments_limit_est = 1000000\n",
    "all_comments = {}\n",
    "total_comments_count = 0\n",
    "for sr in most_popular_subreddits:\n",
    "    # number of comments per subreddit is proportional to its subscriber count\n",
    "    sr_comment_limit = total_comments_limit_est * sr.subscribers / subscribers_sum\n",
    "    total_comments_count += sr_comment_limit\n",
    "    sr_comments = sr.comments(limit=sr_comment_limit)\n",
    "    all_comments[sr.display_name] = sr_comments\n"
   ]
  },
  {
   "cell_type": "code",
   "execution_count": 64,
   "metadata": {},
   "outputs": [
    {
     "data": {
      "text/plain": [
       "1000"
      ]
     },
     "execution_count": 64,
     "metadata": {},
     "output_type": "execute_result"
    }
   ],
   "source": [
    "# total_comments_count\n",
    "# for i, kv in enumerate(all_comments):\n",
    "#     print(i, kv)\n",
    "len(all_comments)"
   ]
  },
  {
   "cell_type": "code",
   "execution_count": 70,
   "metadata": {},
   "outputs": [
    {
     "data": {
      "text/plain": [
       "<praw.models.listing.generator.ListingGenerator at 0x1d759add1d0>"
      ]
     },
     "execution_count": 70,
     "metadata": {},
     "output_type": "execute_result"
    }
   ],
   "source": [
    "raw_comments_tex"
   ]
  },
  {
   "cell_type": "code",
   "execution_count": 71,
   "metadata": {},
   "outputs": [],
   "source": [
    "blanks = [None]*total_comments_limit_est\n",
    "raw_comments_df = pd.DataFrame({\"author\": blanks, \n",
    "                               \"subreddit\": blanks,\n",
    "                               \"time\": blanks,\n",
    "                               \"body\": blanks})"
   ]
  },
  {
   "cell_type": "code",
   "execution_count": 74,
   "metadata": {},
   "outputs": [
    {
     "name": "stdout",
     "output_type": "stream",
     "text": [
      "None\n"
     ]
    }
   ],
   "source": [
    "print(raw_comments_df.iloc[0,1])"
   ]
  },
  {
   "cell_type": "code",
   "execution_count": 72,
   "metadata": {},
   "outputs": [
    {
     "data": {
      "text/plain": [
       "(1000000, 4)"
      ]
     },
     "execution_count": 72,
     "metadata": {},
     "output_type": "execute_result"
    }
   ],
   "source": [
    "row_count = 0\n",
    "for sr in all_comments:\n",
    "    for comment in sr:\n",
    "        raw_comments_df.iloc[row_count, 0] = comment.author"
   ]
  },
  {
   "cell_type": "code",
   "execution_count": null,
   "metadata": {},
   "outputs": [],
   "source": []
  }
 ],
 "metadata": {
  "kernelspec": {
   "display_name": "Python 3",
   "language": "python",
   "name": "python3"
  },
  "language_info": {
   "codemirror_mode": {
    "name": "ipython",
    "version": 3
   },
   "file_extension": ".py",
   "mimetype": "text/x-python",
   "name": "python",
   "nbconvert_exporter": "python",
   "pygments_lexer": "ipython3",
   "version": "3.7.3"
  }
 },
 "nbformat": 4,
 "nbformat_minor": 2
}
