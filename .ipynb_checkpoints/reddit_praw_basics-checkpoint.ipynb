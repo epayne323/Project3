{
 "cells": [
  {
   "cell_type": "code",
   "execution_count": 2,
   "metadata": {},
   "outputs": [],
   "source": [
    "import pandas as pd\n",
    "import praw\n"
   ]
  },
  {
   "cell_type": "code",
   "execution_count": 6,
   "metadata": {},
   "outputs": [],
   "source": [
    "client_id = \"T04_odvTxYN3bQ\"\n",
    "client_secret = \"ZpKbDuYva9ygzqt--LdWtp9U0mQ\"\n",
    "user_agent = \"script:comments_classifier:v1.0 (by /u/comments_classifier)\""
   ]
  },
  {
   "cell_type": "code",
   "execution_count": 7,
   "metadata": {},
   "outputs": [],
   "source": [
    "reddit = praw.Reddit(client_id=client_id,\n",
    "                     client_secret=client_secret,\n",
    "                     user_agent=user_agent)"
   ]
  },
  {
   "cell_type": "code",
   "execution_count": 10,
   "metadata": {},
   "outputs": [
    {
     "name": "stdout",
     "output_type": "stream",
     "text": [
      "REMINDER: This is a left-leaning subreddit!\n",
      "Survey from one of our friends in Switzerland!\n",
      "Yeah, it would be a shame if that was exactly what I was saying\n",
      "THEY'RE ALL BAD\n",
      "DAE laws = Morality???\n",
      "On a post about if you support trans rights\n",
      "KKK and Black Panthers same. Both bad.\n",
      "Checkmate liberals\n",
      "When you're too busy saving the world to actually vote\n",
      "This might not resonate with everyone, but this is *Enlightened Centrism* if you consider it from the vegan perspective.\n"
     ]
    }
   ],
   "source": [
    "for submission in reddit.subreddit('enlightenedcentrism').hot(limit=10):\n",
    "    print(submission.title)"
   ]
  },
  {
   "cell_type": "code",
   "execution_count": null,
   "metadata": {},
   "outputs": [],
   "source": [
    "reddit."
   ]
  }
 ],
 "metadata": {
  "kernelspec": {
   "display_name": "Python 3",
   "language": "python",
   "name": "python3"
  },
  "language_info": {
   "codemirror_mode": {
    "name": "ipython",
    "version": 3
   },
   "file_extension": ".py",
   "mimetype": "text/x-python",
   "name": "python",
   "nbconvert_exporter": "python",
   "pygments_lexer": "ipython3",
   "version": "3.7.3"
  }
 },
 "nbformat": 4,
 "nbformat_minor": 2
}
